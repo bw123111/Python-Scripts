{
 "cells": [
  {
   "cell_type": "code",
   "execution_count": 6,
   "id": "40b9a481-9790-45ff-af92-8ea8788bda93",
   "metadata": {},
   "outputs": [
    {
     "name": "stderr",
     "output_type": "stream",
     "text": [
      "C:\\Users\\annak\\anaconda3\\envs\\opensoundscape_0.7.1\\lib\\site-packages\\torchvision\\models\\_utils.py:208: UserWarning: The parameter 'pretrained' is deprecated since 0.13 and will be removed in 0.15, please use 'weights' instead.\n",
      "  warnings.warn(\n",
      "C:\\Users\\annak\\anaconda3\\envs\\opensoundscape_0.7.1\\lib\\site-packages\\torchvision\\models\\_utils.py:223: UserWarning: Arguments other than a weight enum or `None` for 'weights' are deprecated since 0.13 and will be removed in 0.15. The current behavior is equivalent to passing `weights=ResNet18_Weights.IMAGENET1K_V1`. You can also use `weights=ResNet18_Weights.DEFAULT` to get the most up-to-date weights.\n",
      "  warnings.warn(msg)\n"
     ]
    },
    {
     "name": "stdout",
     "output_type": "stream",
     "text": [
      "mismatched keys:\n",
      "<All keys matched successfully>\n"
     ]
    },
    {
     "name": "stderr",
     "output_type": "stream",
     "text": [
      "C:\\Users\\annak\\anaconda3\\envs\\opensoundscape_0.7.1\\lib\\site-packages\\opensoundscape\\torch\\models\\cnn.py:1183: UserWarning: After loading a model, you still need to ensure that your preprocessing (model.preprocessor) matches the settings used to createthe original model.\n",
      "  warnings.warn(\n"
     ]
    },
    {
     "name": "stdout",
     "output_type": "stream",
     "text": [
      "[]\n",
      "APR008 completed in 0 minutes.\n",
      "[]\n",
      "APR008-2 completed in 0 minutes.\n"
     ]
    }
   ],
   "source": [
    "# Import statements\n",
    "from opensoundscape.torch.models.cnn import load_outdated_model\n",
    "# This is load_model with a model made with current version\n",
    "import time\n",
    "from datetime import date\n",
    "import pandas as pd\n",
    "from glob import glob\n",
    "\n",
    "# Set up some paths\n",
    "model_path = 'C:\\\\Users\\\\annak\\\\OneDrive\\\\Documents\\\\UM\\\\Research\\\\CNNResources\\\\epoch-350.tar'\n",
    "locations_path = 'E:\\\\Classifier_Test\\\\*' # Use * to indicate separate locations directories\n",
    "scores_path = 'C:\\\\Users\\\\annak\\\\OneDrive\\\\Documents\\\\UM\\\\Research\\\\CNNResources\\\\Test_Scores'\n",
    "\n",
    "# Load saved model\n",
    "model = load_outdated_model(model_path,'resnet18',5.0)\n",
    "model.preprocessor.pipeline.to_img.set(invert=True) # OPSO 0.7.1 has inverted black and white\n",
    "# Important to specify these preprocessing parameters which were used to train the model\n",
    "model.preprocessor.pipeline.load_audio.set(sample_rate=2000)\n",
    "model.preprocessor.pipeline.to_spec.set(window_samples=256, overlap_samples=224)\n",
    "model.preprocessor.pipeline.bandpass.set(min_f=500, max_f=800)\n",
    "\n",
    "# Predict on each point\n",
    "locations = glob(locations_path)\n",
    "\n",
    "for loc in locations:\n",
    "    t1 = time.time()\n",
    "    audio_files = glob(f\"{loc}\\\\*.WAV\")\n",
    "    scores,_,_ = model.predict(audio_files,\n",
    "                                overlap_fraction=0\n",
    "                                )\n",
    "    scores.to_csv(scores_path+'\\\\'+date.today().strftime('%Y-%m-%d')+'_'+loc.split('\\\\')[-1]+'_scores.csv')\n",
    "    t2 = time.time()\n",
    "    print(loc.split('\\\\')[-1]+' completed in '+str(int((t2-t1)/60))+' minutes.')\n"
   ]
  },
  {
   "cell_type": "code",
   "execution_count": null,
   "id": "0a412010-2d0e-4c26-b457-8c9c3fc35468",
   "metadata": {},
   "outputs": [],
   "source": []
  }
 ],
 "metadata": {
  "kernelspec": {
   "display_name": "opensoundscape 0.7.1",
   "language": "python",
   "name": "opensoundscape_0.7.1"
  },
  "language_info": {
   "codemirror_mode": {
    "name": "ipython",
    "version": 3
   },
   "file_extension": ".py",
   "mimetype": "text/x-python",
   "name": "python",
   "nbconvert_exporter": "python",
   "pygments_lexer": "ipython3",
   "version": "3.8.13"
  }
 },
 "nbformat": 4,
 "nbformat_minor": 5
}
